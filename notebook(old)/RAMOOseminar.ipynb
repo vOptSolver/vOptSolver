{
 "cells": [
  {
   "cell_type": "markdown",
   "metadata": {},
   "source": [
    "## Disclaimer\n",
    "\n",
    "**Environment:** This notebook is only working under the versions:\n",
    "\n",
    "- Julia v1.0.x\n",
    "- JuMP v0.18.x\n",
    "- GLPKMathProgInterface v0.4.4\n",
    "- GLPK v0.8.2\n",
    "- vOptSpecific v1.0.0\n",
    "- vOptGeneric v0.2.0\n",
    "\n",
    "**Description:** This notebook introduces the minimal notions to know on Julia and JuMP for using vOptSolver. The topics covered are:\n",
    "\n",
    "- Installing Julia, JuMP, and vOptSolver\n",
    "- Implementing algorithms and subroutines in Julia\n",
    "- Representing vectors and matrices in Julia\n",
    "- Plotting the results with and without graphical environment\n",
    "- Solving LP and MIP with JuMP\n",
    "- Solving multiple objective linear optimization problems with vOptSolver\n",
    "\n",
    "**Author:** Xavier Gandibleux, Nantes (France)\n",
    "\n",
    "**License:** <a rel=\"license\" href=\"http://creativecommons.org/licenses/by-nc-sa/4.0/\"><img alt=\"Creative Commons License\" style=\"border-width:0\" src=\"https://i.creativecommons.org/l/by-nc-sa/4.0/88x31.png\" /></a><br /><span xmlns:dct=\"http://purl.org/dc/terms/\" property=\"dct:title\">Shortest path from Julia and JuMP to vOptSolver for optimizers</span> by <span xmlns:cc=\"http://creativecommons.org/ns#\" property=\"cc:attributionName\">Xavier Gandibleux</span> is licensed under a <a rel=\"license\" href=\"http://creativecommons.org/licenses/by-nc-sa/4.0/\">Creative Commons Attribution-NonCommercial-ShareAlike 4.0 International License</a>."
   ]
  },
  {
   "cell_type": "markdown",
   "metadata": {},
   "source": [
    "----\n",
    "\n",
    "# Shortest path from Julia and JuMP to vOptSolver for optimizers\n",
    "Residential Seminar *Recent Advances in Multi-Objective Optimization (RAMOO)*\n",
    "\n",
    "November 11-16, 2018, Nantes, France\n"
   ]
  },
  {
   "cell_type": "markdown",
   "metadata": {},
   "source": [
    "-----\n",
    "\n",
    "## 1. Getting started"
   ]
  },
  {
   "cell_type": "markdown",
   "metadata": {},
   "source": [
    "### 1.1 Julia programming language\n",
    "\n",
    "Versions: \n",
    "- First: August 23, 2009\n",
    "\n",
    "- Stable: August, 8 2018\n",
    "\n",
    "- Current: November 8, 2018\n",
    "\n",
    "Jeff Bezanson, Alan Edelman, Stefan Karpinski and Viral B. Shah. Julia: A Fresh Approach to Numerical Computing.  *SIAM Review*, 59: 65–98, 2017.\n",
    "\n",
    "Julia Channel on YouTube: https://www.youtube.com/user/JuliaLanguage\n",
    "\n",
    "\n",
    "### 1.2  Working with Julia\n",
    "\n",
    "- a distant use\n",
    "\n",
    "     on the cloud with \n",
    "     \n",
    "     (1) *JuliaBox* (http://juliabox.com)\n",
    "     \n",
    "\n",
    "- a local use\n",
    "\n",
    "   on macOS, linux, windows with\n",
    "\n",
    "   (2) *JuliaLang* full local installation (https://julialang.org/)\n",
    "\n",
    "   (3) *JuliaPro* (https://juliacomputing.com/products/juliapro.html)\n",
    "  \n",
    "  \n",
    "### 1.3 Interacting with Julia\n",
    "\n",
    "- via the *REPL*\n",
    "\n",
    "   **R**eads what you type\n",
    "   \n",
    "   **E**valuates it\n",
    "   \n",
    "   **P**rints out the return value, then\n",
    "   \n",
    "   **L**oops back and does it all over again\n",
    "   \n",
    "\n",
    "- via the *Jupyter* notebook \n",
    "\n",
    "   **Ju**lia\n",
    "   \n",
    "   **Py**thon\n",
    "   \n",
    "   **R** \n",
    "\n",
    "\n",
    "### 1.4 Programming in Julia\n",
    "\n",
    "-  coding *interactively* \n",
    "\n",
    "    in a terminal: `julia`\n",
    "\n",
    "    with the REPL or Jupyter \n",
    "    \n",
    "    in a terminal: `jupyter notebook`\n",
    "    \n",
    "\n",
    "- coding *offline* \n",
    "\n",
    "    with your prefered editor (i.e. ATOM, Juno, emacs, etc.) and executing with the REPL"
   ]
  },
  {
   "cell_type": "markdown",
   "metadata": {},
   "source": [
    "------\n",
    "\n",
    "## 2. Packages"
   ]
  },
  {
   "cell_type": "markdown",
   "metadata": {},
   "source": [
    "### 2.1 The collection of packages "
   ]
  },
  {
   "cell_type": "markdown",
   "metadata": {},
   "source": [
    "*Julia Observer* provides a visual interface for exploring packages:\n",
    "\n",
    "     https://juliaobserver.com/\n",
    "\n",
    "Some useful packages:\n",
    "- **Pkg**: primitives for managing packages\n",
    "- **Printf**: primitives for printf display\n",
    "- **Random**: primitives for random number\n",
    "- **LinearAlgebra**: primitives for linear algebra\n",
    "\n",
    "\n",
    "- **UnicodePlots**: Plotting in text mode \n",
    "- **PyPlot**: Plotting for Julia based on matplotlib.pyplot\n",
    "- **Plots**: a high-level plotting package that interfaces with other plotting packages\n",
    "\n",
    "\n",
    "- **JuMP**: Modeling language for Mathematical Optimization (linear, mixed-integer, conic, semidefinite, nonlinear)\n",
    "- **GLPK**: GLPK wrapper module for Julia \n",
    "- **GLPKMathProgInterface**: Interface between the GLPK.jl wrapper and MathProgBase.jl \n",
    "- **Gurobi**: Julia interface for Gurobi Optimizer \n",
    "- **CPLEX**: Julia interface for the CPLEX optimization software\n",
    "- **vOptSpecific**: Solver of multiobjective linear optimization problems (MOCO, MOILP, MOMILP, MOLP): specific part \n",
    "- **vOptGeneric**: Solver of multiobjective linear optimization problems (MOCO, MOILP, MOMILP, MOLP): generic part\n"
   ]
  },
  {
   "cell_type": "markdown",
   "metadata": {},
   "source": [
    "### 2.2 Using a package\n",
    "\n",
    "Commands to invoque **each time** before the first use of the given package:  "
   ]
  },
  {
   "cell_type": "code",
   "execution_count": null,
   "metadata": {},
   "outputs": [],
   "source": [
    "using Pkg\n",
    "using JuMP\n",
    "using Printf\n",
    "using LinearAlgebra"
   ]
  },
  {
   "cell_type": "markdown",
   "metadata": {},
   "source": [
    "### 2.3 Adding a package\n",
    "\n",
    "Commands to invoque **once** before the first use of the given package: "
   ]
  },
  {
   "cell_type": "code",
   "execution_count": null,
   "metadata": {},
   "outputs": [],
   "source": [
    "Pkg.add(\"UnicodePlots\")\n",
    "Pkg.add(\"JuMP\")\n",
    "Pkg.add(\"GLPK\")\n",
    "Pkg.add(\"GLPKMathProgInterface\")"
   ]
  },
  {
   "cell_type": "markdown",
   "metadata": {},
   "source": [
    "### 2.4 REPL in Package mode"
   ]
  },
  {
   "cell_type": "code",
   "execution_count": null,
   "metadata": {},
   "outputs": [],
   "source": [
    "]"
   ]
  },
  {
   "cell_type": "markdown",
   "metadata": {},
   "source": [
    "Commands to know:\n",
    "\n",
    "`add`: adding a package\n",
    "\n",
    "`status`: list of packages installed \n",
    "\n",
    "`rm`: remove a package\n",
    "\n",
    "`help`: list of commands available\n",
    "\n",
    "`CTRL-C`: leave the package mode "
   ]
  },
  {
   "cell_type": "markdown",
   "metadata": {},
   "source": [
    "-----\n",
    "\n",
    "## 3. First instructions (Julia v1.0 and higher)"
   ]
  },
  {
   "cell_type": "markdown",
   "metadata": {},
   "source": [
    "### 3.1 Assign a value to a variable"
   ]
  },
  {
   "cell_type": "markdown",
   "metadata": {},
   "source": [
    "Integer (Int8, Int16, Int32, Int64):"
   ]
  },
  {
   "cell_type": "code",
   "execution_count": null,
   "metadata": {},
   "outputs": [],
   "source": [
    "zipcode = 44000"
   ]
  },
  {
   "cell_type": "markdown",
   "metadata": {},
   "source": [
    "Float (Float16, Float32, Float64):"
   ]
  },
  {
   "cell_type": "code",
   "execution_count": null,
   "metadata": {},
   "outputs": [],
   "source": [
    "price = 29.95"
   ]
  },
  {
   "cell_type": "markdown",
   "metadata": {},
   "source": [
    "Character:"
   ]
  },
  {
   "cell_type": "code",
   "execution_count": null,
   "metadata": {},
   "outputs": [],
   "source": [
    "dot = '.'"
   ]
  },
  {
   "cell_type": "markdown",
   "metadata": {},
   "source": [
    "String:"
   ]
  },
  {
   "cell_type": "code",
   "execution_count": null,
   "metadata": {},
   "outputs": [],
   "source": [
    "sentence = \".\""
   ]
  },
  {
   "cell_type": "markdown",
   "metadata": {},
   "source": [
    "### 3.2 Display the value of a variable"
   ]
  },
  {
   "cell_type": "code",
   "execution_count": null,
   "metadata": {
    "scrolled": true
   },
   "outputs": [],
   "source": [
    "print(zipcode)\n",
    "println()\n",
    "print(price)"
   ]
  },
  {
   "cell_type": "code",
   "execution_count": null,
   "metadata": {},
   "outputs": [],
   "source": [
    "println(\"Zip Code: \",zipcode)\n",
    "println(price)"
   ]
  },
  {
   "cell_type": "code",
   "execution_count": null,
   "metadata": {},
   "outputs": [],
   "source": [
    "println(zipcode, \" | \", price, \" | \", dot, \" | \", sentence)"
   ]
  },
  {
   "cell_type": "code",
   "execution_count": null,
   "metadata": {},
   "outputs": [],
   "source": [
    "using Printf\n",
    "@printf(\"Zip Code: %d \\n\",zipcode)"
   ]
  },
  {
   "cell_type": "code",
   "execution_count": null,
   "metadata": {},
   "outputs": [],
   "source": [
    "@show zipcode"
   ]
  },
  {
   "cell_type": "markdown",
   "metadata": {},
   "source": [
    "### 3.3 Get the type of a variable"
   ]
  },
  {
   "cell_type": "code",
   "execution_count": null,
   "metadata": {},
   "outputs": [],
   "source": [
    "typeof(zipcode)"
   ]
  },
  {
   "cell_type": "markdown",
   "metadata": {},
   "source": [
    "### 3.4 Write a comment"
   ]
  },
  {
   "cell_type": "code",
   "execution_count": null,
   "metadata": {},
   "outputs": [],
   "source": [
    "# this is a line comment"
   ]
  },
  {
   "cell_type": "code",
   "execution_count": null,
   "metadata": {},
   "outputs": [],
   "source": [
    "#= And this\n",
    "   is a block\n",
    "   of comment\n",
    "=#"
   ]
  },
  {
   "cell_type": "markdown",
   "metadata": {},
   "source": [
    "### 3.5 The conditionnals "
   ]
  },
  {
   "cell_type": "markdown",
   "metadata": {},
   "source": [
    "if ... endIf"
   ]
  },
  {
   "cell_type": "code",
   "execution_count": null,
   "metadata": {},
   "outputs": [],
   "source": [
    "if zipcode == 44000\n",
    "    println(\"Welcome to Nantes\")\n",
    "end"
   ]
  },
  {
   "cell_type": "code",
   "execution_count": null,
   "metadata": {},
   "outputs": [],
   "source": [
    "if zipcode == 44000\n",
    "    println(\"Welcome to Nantes\")\n",
    "else\n",
    "    println(\"Welcome to France\")\n",
    "end"
   ]
  },
  {
   "cell_type": "code",
   "execution_count": null,
   "metadata": {},
   "outputs": [],
   "source": [
    "if zipcode == 44000\n",
    "    println(\"Welcome to Nantes Central area\")\n",
    "elseif zipcode == 44100\n",
    "    println(\"Welcome to Nantes West area\")\n",
    "elseif zipcode == 44200\n",
    "    println(\"Welcome to Nantes South area\")\n",
    "elseif zipcode == 44300\n",
    "    println(\"Welcome to Nantes North-East area\")    \n",
    "else\n",
    "    println(\"Welcome to France\")\n",
    "end"
   ]
  },
  {
   "cell_type": "markdown",
   "metadata": {},
   "source": [
    "ifelse"
   ]
  },
  {
   "cell_type": "code",
   "execution_count": null,
   "metadata": {},
   "outputs": [],
   "source": [
    "println(\"Welcome to \", ifelse(zipcode == 44000, \"Nantes\", \"France\"))"
   ]
  },
  {
   "cell_type": "markdown",
   "metadata": {},
   "source": [
    "### 3.6 The repetitives"
   ]
  },
  {
   "cell_type": "markdown",
   "metadata": {},
   "source": [
    "for ... endFor"
   ]
  },
  {
   "cell_type": "code",
   "execution_count": null,
   "metadata": {},
   "outputs": [],
   "source": [
    "for i=1:10\n",
    "    print(i , \" \")\n",
    "end"
   ]
  },
  {
   "cell_type": "code",
   "execution_count": null,
   "metadata": {},
   "outputs": [],
   "source": [
    "for i in 1:10 # a interval\n",
    "    print(i , \" \")\n",
    "end"
   ]
  },
  {
   "cell_type": "code",
   "execution_count": null,
   "metadata": {},
   "outputs": [],
   "source": [
    "for i in 1:2:10 # a interval with a step\n",
    "    print(i , \" \")\n",
    "end"
   ]
  },
  {
   "cell_type": "code",
   "execution_count": null,
   "metadata": {},
   "outputs": [],
   "source": [
    "for i in (44000, 44100, 44200, 44300) # a tuple\n",
    "    print(i , \" \")\n",
    "end"
   ]
  },
  {
   "cell_type": "code",
   "execution_count": null,
   "metadata": {},
   "outputs": [],
   "source": [
    "for i in [44000, 44100, 44200, 44300] # a vector\n",
    "    print(i , \" \")\n",
    "end"
   ]
  },
  {
   "cell_type": "code",
   "execution_count": null,
   "metadata": {},
   "outputs": [],
   "source": [
    "for i in \"44000\" # a string\n",
    "    print(i , \" \")\n",
    "end"
   ]
  },
  {
   "cell_type": "code",
   "execution_count": null,
   "metadata": {},
   "outputs": [],
   "source": [
    "for i in Dict(\"Central\"=>44000, \"University\"=>44300) # a dictionary\n",
    "    print(i , \" \")\n",
    "end"
   ]
  },
  {
   "cell_type": "code",
   "execution_count": null,
   "metadata": {},
   "outputs": [],
   "source": [
    "for i in Set([44000, 44300]) # a set\n",
    "    print(i , \" \")\n",
    "end"
   ]
  },
  {
   "cell_type": "markdown",
   "metadata": {},
   "source": [
    "while ... endWhile"
   ]
  },
  {
   "cell_type": "code",
   "execution_count": null,
   "metadata": {},
   "outputs": [],
   "source": [
    "zipcode = 44000\n",
    "while zipcode ≤ 44300\n",
    "    print(zipcode, \" \")\n",
    "    global zipcode = zipcode + 100 # global required outside a function\n",
    "end"
   ]
  },
  {
   "cell_type": "markdown",
   "metadata": {},
   "source": [
    "repeat ... until"
   ]
  },
  {
   "cell_type": "code",
   "execution_count": null,
   "metadata": {},
   "outputs": [],
   "source": [
    "zipcode = 44000\n",
    "while true\n",
    "    print(zipcode, \" \")\n",
    "    global zipcode = zipcode + 100 # global required outside a function\n",
    "    zipcode > 44300 && break  # repeat ... until\n",
    "end"
   ]
  },
  {
   "cell_type": "markdown",
   "metadata": {},
   "source": [
    "### 3.7 Writing and calling a function"
   ]
  },
  {
   "cell_type": "markdown",
   "metadata": {},
   "source": [
    "Single expression function:"
   ]
  },
  {
   "cell_type": "code",
   "execution_count": null,
   "metadata": {},
   "outputs": [],
   "source": [
    "f(x) = x^2 + 7"
   ]
  },
  {
   "cell_type": "code",
   "execution_count": null,
   "metadata": {},
   "outputs": [],
   "source": [
    "f(2)"
   ]
  },
  {
   "cell_type": "markdown",
   "metadata": {},
   "source": [
    "Anonymous function:"
   ]
  },
  {
   "cell_type": "code",
   "execution_count": null,
   "metadata": {},
   "outputs": [],
   "source": [
    "map(x -> x^2 + 7 , 2) # over a scalar"
   ]
  },
  {
   "cell_type": "code",
   "execution_count": null,
   "metadata": {},
   "outputs": [],
   "source": [
    "map(x -> x^2 + 7 , [2, 7, 4]) # over a vector"
   ]
  },
  {
   "cell_type": "code",
   "execution_count": null,
   "metadata": {},
   "outputs": [],
   "source": [
    "map((x,b) -> x^2 + b , 2, 7) # multiple parameters"
   ]
  },
  {
   "cell_type": "markdown",
   "metadata": {},
   "source": [
    "Generalized function:"
   ]
  },
  {
   "cell_type": "code",
   "execution_count": null,
   "metadata": {},
   "outputs": [],
   "source": [
    "function affinefct( x::Int64 ) # single parameter\n",
    "    println(\"1 parameter\")\n",
    "    y = x^2 + 7\n",
    "    return y\n",
    "end"
   ]
  },
  {
   "cell_type": "code",
   "execution_count": null,
   "metadata": {},
   "outputs": [],
   "source": [
    "affinefct(2)"
   ]
  },
  {
   "cell_type": "code",
   "execution_count": null,
   "metadata": {},
   "outputs": [],
   "source": [
    "function affinefct( x::Int64, b::Int64 ) # multiple parameters\n",
    "    println(\"2 parameters\")\n",
    "    y = x^2 + b\n",
    "    return y\n",
    "end"
   ]
  },
  {
   "cell_type": "code",
   "execution_count": null,
   "metadata": {},
   "outputs": [],
   "source": [
    "affinefct(2,7)"
   ]
  },
  {
   "cell_type": "markdown",
   "metadata": {},
   "source": [
    "### 3.8 Help online"
   ]
  },
  {
   "cell_type": "code",
   "execution_count": null,
   "metadata": {},
   "outputs": [],
   "source": [
    "? for"
   ]
  },
  {
   "cell_type": "markdown",
   "metadata": {},
   "source": [
    "### 3.9 Exercice\n",
    "\n",
    "Let $f:[a;b]\\rightarrow \\mathbb{R}$ a function strictly monotonic on the interval $[a,b]$. \n",
    "We suppose the equation $f(x)=0$ has one and only one solution on the interval.\n",
    "Determine this value for a given precision using a dichotomic method."
   ]
  },
  {
   "cell_type": "markdown",
   "metadata": {},
   "source": [
    "-----\n",
    "\n",
    "## 4. Mathematic functionalities responding to the optimizer's needs "
   ]
  },
  {
   "cell_type": "markdown",
   "metadata": {},
   "source": [
    "### 4.1 Vectors"
   ]
  },
  {
   "cell_type": "markdown",
   "metadata": {},
   "source": [
    "Non initialized vector:"
   ]
  },
  {
   "cell_type": "code",
   "execution_count": null,
   "metadata": {},
   "outputs": [],
   "source": [
    "v = Array{Int64}(undef,5)"
   ]
  },
  {
   "cell_type": "code",
   "execution_count": null,
   "metadata": {},
   "outputs": [],
   "source": [
    "v = Vector{Int64}(undef,5)"
   ]
  },
  {
   "cell_type": "markdown",
   "metadata": {},
   "source": [
    "Vector of zeros:"
   ]
  },
  {
   "cell_type": "code",
   "execution_count": null,
   "metadata": {},
   "outputs": [],
   "source": [
    "v0 = zeros(Int64,5)"
   ]
  },
  {
   "cell_type": "markdown",
   "metadata": {},
   "source": [
    "Vector of ones:"
   ]
  },
  {
   "cell_type": "code",
   "execution_count": null,
   "metadata": {},
   "outputs": [],
   "source": [
    "v1 = ones(Int64,5)"
   ]
  },
  {
   "cell_type": "markdown",
   "metadata": {},
   "source": [
    "Assign one value:"
   ]
  },
  {
   "cell_type": "code",
   "execution_count": null,
   "metadata": {},
   "outputs": [],
   "source": [
    "v[2]= 6"
   ]
  },
  {
   "cell_type": "code",
   "execution_count": null,
   "metadata": {},
   "outputs": [],
   "source": [
    "v[end] = 0"
   ]
  },
  {
   "cell_type": "markdown",
   "metadata": {},
   "source": [
    "Assign several values:"
   ]
  },
  {
   "cell_type": "code",
   "execution_count": null,
   "metadata": {},
   "outputs": [],
   "source": [
    "v = [2,3.5, '.',\"brol\",5]"
   ]
  },
  {
   "cell_type": "code",
   "execution_count": null,
   "metadata": {},
   "outputs": [],
   "source": [
    "v[2:3] = [3, 7]"
   ]
  },
  {
   "cell_type": "markdown",
   "metadata": {},
   "source": [
    "### 4.2 Matrices"
   ]
  },
  {
   "cell_type": "markdown",
   "metadata": {},
   "source": [
    "Non initialized matrix:"
   ]
  },
  {
   "cell_type": "code",
   "execution_count": null,
   "metadata": {},
   "outputs": [],
   "source": [
    "m = Array{Int64}(undef,2,3)"
   ]
  },
  {
   "cell_type": "code",
   "execution_count": null,
   "metadata": {},
   "outputs": [],
   "source": [
    "m = Matrix{Float64}(undef,2,3)"
   ]
  },
  {
   "cell_type": "markdown",
   "metadata": {},
   "source": [
    "Matrix of zeros:"
   ]
  },
  {
   "cell_type": "code",
   "execution_count": null,
   "metadata": {},
   "outputs": [],
   "source": [
    "m0 = zeros(Float64,2,3,4)"
   ]
  },
  {
   "cell_type": "markdown",
   "metadata": {},
   "source": [
    "Matrix of ones:"
   ]
  },
  {
   "cell_type": "code",
   "execution_count": null,
   "metadata": {},
   "outputs": [],
   "source": [
    "m1 = ones(Float64,2,3,4)"
   ]
  },
  {
   "cell_type": "markdown",
   "metadata": {},
   "source": [
    "Matrix initialized with a given value:"
   ]
  },
  {
   "cell_type": "code",
   "execution_count": null,
   "metadata": {},
   "outputs": [],
   "source": [
    "m = fill(3.14,2,3)"
   ]
  },
  {
   "cell_type": "markdown",
   "metadata": {},
   "source": [
    "### 4.3 Example of FILO list"
   ]
  },
  {
   "cell_type": "markdown",
   "metadata": {},
   "source": [
    "Create empty list:"
   ]
  },
  {
   "cell_type": "code",
   "execution_count": null,
   "metadata": {},
   "outputs": [],
   "source": [
    "L=(Int64)[]"
   ]
  },
  {
   "cell_type": "markdown",
   "metadata": {},
   "source": [
    "Push one item:"
   ]
  },
  {
   "cell_type": "code",
   "execution_count": null,
   "metadata": {},
   "outputs": [],
   "source": [
    "push!(L,6)"
   ]
  },
  {
   "cell_type": "markdown",
   "metadata": {},
   "source": [
    "Pop one item:"
   ]
  },
  {
   "cell_type": "code",
   "execution_count": null,
   "metadata": {},
   "outputs": [],
   "source": [
    "pop!(L)"
   ]
  },
  {
   "cell_type": "markdown",
   "metadata": {},
   "source": [
    "### 4.4 Random numbers"
   ]
  },
  {
   "cell_type": "markdown",
   "metadata": {},
   "source": [
    "Float in [0;1]"
   ]
  },
  {
   "cell_type": "code",
   "execution_count": null,
   "metadata": {},
   "outputs": [],
   "source": [
    "rand()"
   ]
  },
  {
   "cell_type": "markdown",
   "metadata": {},
   "source": [
    "Integer in [2;7]"
   ]
  },
  {
   "cell_type": "code",
   "execution_count": null,
   "metadata": {},
   "outputs": [],
   "source": [
    "rand(2:7)"
   ]
  },
  {
   "cell_type": "markdown",
   "metadata": {},
   "source": [
    "Serie of 5 integers in [40;100]"
   ]
  },
  {
   "cell_type": "code",
   "execution_count": null,
   "metadata": {},
   "outputs": [],
   "source": [
    "rand(40:100,5)"
   ]
  },
  {
   "cell_type": "markdown",
   "metadata": {},
   "source": [
    "Serie of 5 floats in [0;1]"
   ]
  },
  {
   "cell_type": "code",
   "execution_count": null,
   "metadata": {},
   "outputs": [],
   "source": [
    "rand(5)"
   ]
  },
  {
   "cell_type": "markdown",
   "metadata": {},
   "source": [
    "### 4.5 Sample of available functions"
   ]
  },
  {
   "cell_type": "code",
   "execution_count": null,
   "metadata": {},
   "outputs": [],
   "source": [
    "maximum([2,7,4])"
   ]
  },
  {
   "cell_type": "code",
   "execution_count": null,
   "metadata": {},
   "outputs": [],
   "source": [
    "minimum([2,7,4])"
   ]
  },
  {
   "cell_type": "code",
   "execution_count": null,
   "metadata": {},
   "outputs": [],
   "source": [
    "sum([2,7,4])"
   ]
  },
  {
   "cell_type": "code",
   "execution_count": null,
   "metadata": {},
   "outputs": [],
   "source": [
    "prod([2,7,4])"
   ]
  },
  {
   "cell_type": "code",
   "execution_count": null,
   "metadata": {},
   "outputs": [],
   "source": [
    "v1 = [2,7,4]\n",
    "v2 = [3,8,1]"
   ]
  },
  {
   "cell_type": "code",
   "execution_count": null,
   "metadata": {},
   "outputs": [],
   "source": [
    "v1.*v2"
   ]
  },
  {
   "cell_type": "code",
   "execution_count": null,
   "metadata": {},
   "outputs": [],
   "source": [
    "transpose(v1)*v2  # or v1'v2  or dot(v1,v2)"
   ]
  },
  {
   "cell_type": "code",
   "execution_count": null,
   "metadata": {},
   "outputs": [],
   "source": [
    "sort([2,7,4])"
   ]
  },
  {
   "cell_type": "code",
   "execution_count": null,
   "metadata": {},
   "outputs": [],
   "source": [
    "argmin([2,7,4])"
   ]
  },
  {
   "cell_type": "code",
   "execution_count": null,
   "metadata": {},
   "outputs": [],
   "source": [
    "argmax([2,7,4])"
   ]
  },
  {
   "cell_type": "markdown",
   "metadata": {},
   "source": [
    "### 4.5 Exercice\n",
    "For the unidimensional 01 knapsack problem, $$z=\\max\\big\\{px \\mid wx \\le c, \\ x\\in\\{0,1\\}^n\\big\\}$$\n",
    "with $$n=5$$\n",
    "$$p=(5, 3, 2, 7, 4)$$\n",
    "$$w=(2, 8, 4, 2, 5)$$\n",
    "$$c=10$$\n",
    "compute the linear relaxation."
   ]
  },
  {
   "cell_type": "markdown",
   "metadata": {},
   "source": [
    "-----\n",
    "\n",
    "## 5 Others important concepts of JuliaLang to learn"
   ]
  },
  {
   "cell_type": "markdown",
   "metadata": {},
   "source": [
    "- Structure\n",
    "\n",
    "- Dictionary\n",
    "\n",
    "- Set\n",
    "\n",
    "- Text file"
   ]
  },
  {
   "cell_type": "markdown",
   "metadata": {},
   "source": [
    "- Types and multiple dispatch\n",
    "\n",
    "- Embedding C code\n",
    "\n",
    "- Parallelism"
   ]
  },
  {
   "cell_type": "markdown",
   "metadata": {},
   "source": [
    "- REPL in shell mode"
   ]
  },
  {
   "cell_type": "code",
   "execution_count": null,
   "metadata": {},
   "outputs": [],
   "source": [
    ";"
   ]
  },
  {
   "cell_type": "markdown",
   "metadata": {},
   "source": [
    "- Loading your julia code from a file (myprg.jl)"
   ]
  },
  {
   "cell_type": "code",
   "execution_count": null,
   "metadata": {},
   "outputs": [],
   "source": [
    "include(\"myprog.jl\")"
   ]
  },
  {
   "cell_type": "markdown",
   "metadata": {},
   "source": [
    "-----\n",
    "\n",
    "## 6 Plotting"
   ]
  },
  {
   "cell_type": "markdown",
   "metadata": {},
   "source": [
    "### 6.1 Overview\n",
    "- **UnicodePlots**: a quick and easy way to draw plots in the REPL\n",
    "\n",
    "     https://github.com/Evizero/UnicodePlots.jl\n",
    "     \n",
    "     \n",
    "- **PyPlot**: a collection of command style functions that make matplotlib work like MATLAB\n",
    "\n",
    "     https://github.com/JuliaPy/PyPlot.jl\n",
    "     \n",
    "     https://matplotlib.org/tutorials/introductory/pyplot.html\n",
    "\n",
    "\n",
    "- **Plots**: a high-level plotting package that interfaces with other plotting packages\n",
    "\n",
    "     https://github.com/JuliaPlots/Plots.jl\n",
    "\n",
    "To avoid any interactions (and thus error messages) between plotting packages, use only one plotting package simultaneously."
   ]
  },
  {
   "cell_type": "markdown",
   "metadata": {},
   "source": [
    "### 6.2 Getting UnicodePlots"
   ]
  },
  {
   "cell_type": "code",
   "execution_count": null,
   "metadata": {},
   "outputs": [],
   "source": [
    "#using Pkg\n",
    "#Pkg.add(\"UnicodePlots\")\n",
    "using UnicodePlots"
   ]
  },
  {
   "cell_type": "markdown",
   "metadata": {},
   "source": [
    "### 6.3 Example"
   ]
  },
  {
   "cell_type": "code",
   "execution_count": null,
   "metadata": {},
   "outputs": [],
   "source": [
    "x = Vector(-5:5) ; y = 4*x .+ 10\n",
    "myPlot = lineplot(x, y, title = \"y=f(x)\", name = \"y=4x+10\")"
   ]
  },
  {
   "cell_type": "markdown",
   "metadata": {},
   "source": [
    "### 6.4 Getting PyPlot "
   ]
  },
  {
   "cell_type": "code",
   "execution_count": null,
   "metadata": {},
   "outputs": [],
   "source": [
    "#using Pkg\n",
    "#Pkg.add(\"PyPlot\")\n",
    "using PyPlot"
   ]
  },
  {
   "cell_type": "markdown",
   "metadata": {},
   "source": [
    "### 6.5 Example"
   ]
  },
  {
   "cell_type": "code",
   "execution_count": null,
   "metadata": {},
   "outputs": [],
   "source": [
    "#title(\"y=f(x)\")\n",
    "#xlabel(\"x values\") ; ylabel(\"y values\")\n",
    "\n",
    "# To avoid interaction with others plotting packages :\n",
    "PyPlot.title(\"y=f(x)\")\n",
    "PyPlot.xlabel(\"x values\") ; PyPlot.ylabel(\"y values\")\n",
    "\n",
    "grid()\n",
    "x = Vector(-5:5) ; y = 4*x .+ 10\n",
    "plot(x,y,label=\"y=4x+10\")\n",
    "legend(loc=4, fontsize=\"small\")\n",
    "show()"
   ]
  },
  {
   "cell_type": "markdown",
   "metadata": {},
   "source": [
    "### 6.6 Getting Plots "
   ]
  },
  {
   "cell_type": "code",
   "execution_count": null,
   "metadata": {},
   "outputs": [],
   "source": [
    "#using Pkg\n",
    "#Pkg.add(\"Plots\")\n",
    "using Plots"
   ]
  },
  {
   "cell_type": "code",
   "execution_count": null,
   "metadata": {},
   "outputs": [],
   "source": [
    "x = Vector(-5:5) ; y = 4*x .+ 10\n",
    "plot(x,y,title=\"y=f(x)\",label=[\"y=4x+10\"],lw=2, legend=:bottomright, fmt = :png)"
   ]
  },
  {
   "cell_type": "markdown",
   "metadata": {},
   "source": [
    "------\n",
    "## 7. JuMP (v0.18.4) with illustrated with GLPK\n",
    "\n",
    "https://github.com/JuliaOpt/JuMP.jl\n",
    "\n",
    "Miles Lubin and Iain Dunning. Computing in Operations Research Using Julia. *INFORMS Journal on Computing*, 27(2), 238-248, 2015.\n",
    "\n",
    "Iain Dunning, Joey Huchette, and Miles Lubin. JuMP: A Modeling Language for Mathematical Optimization. *SIAM Review*,\n",
    "59 (2), 295-320, 2017.\n",
    "\n",
    "ROADEF 2018 - Miles Lubin, *JuMP: past, present, and future* (YouTube video): https://www.youtube.com/watch?v=iJyEYKZjlnI"
   ]
  },
  {
   "cell_type": "markdown",
   "metadata": {},
   "source": [
    "### 7.1 Overview"
   ]
  },
  {
   "cell_type": "markdown",
   "metadata": {},
   "source": [
    "A modeling language for Mathematical Optimization (linear, mixed-integer, conic, semidefinite, nonlinear): \n",
    "\n",
    "- **User friendliness**\n",
    "\n",
    "    Syntax that mimics natural mathematical expressions.\n",
    "    \n",
    "\n",
    "- **Speed**\n",
    "\n",
    "    Similar speeds to special-purpose modeling languages such as AMPL.\n",
    "\n",
    "\n",
    "- **Solver independence**\n",
    "\n",
    "    JuMP uses a generic solver-independent interface provided by the MathProgBase package.\n",
    "    Currently supported solvers: Artelys Knitro, Bonmin, Cbc, Clp, Couenne, CPLEX, ECOS, FICO Xpress, GLPK, Gurobi, Ipopt, MOSEK, NLopt, and SCS.\n",
    "\n",
    "\n",
    "- **Access to advanced algorithmic techniques**\n",
    "\n",
    "    Including efficient LP re-solves and callbacks for mixed-integer programming.\n",
    "\n",
    "\n",
    "- **Ease of embedding**\n",
    "\n",
    "   JuMP itself is written purely in Julia. Solvers are the only binary dependencies.\n",
    "\n",
    "\n",
    "Example:\n",
    "\n",
    "$\\quad \\left[ \\ \\begin{array}{crcrccc}\n",
    "\\quad  \\max z(x) = & x_1 &+& 3x_2 &   &    & \\quad (0)\\quad \\  \\\\\n",
    "\\quad  s.t &         x_1 &+&  x_2 &\\le& 14 & \\quad (1)\\quad \\ \\\\\n",
    "    &       -2x_1 &+& 3x_2 &\\le& 12 & \\quad (2)\\quad \\ \\\\\n",
    "    &        2x_1 &-&  x_2 &\\le& 12 & \\quad (3)\\quad \\ \\\\\n",
    "    &         x_1 &,&  x_2 &\\ge& 0  & \\quad (4)\\quad \\\n",
    " \\end{array}\\ \\right]\n",
    "$"
   ]
  },
  {
   "cell_type": "markdown",
   "metadata": {},
   "source": [
    "### 7.2 Getting JuMP"
   ]
  },
  {
   "cell_type": "code",
   "execution_count": null,
   "metadata": {},
   "outputs": [],
   "source": [
    "using JuMP"
   ]
  },
  {
   "cell_type": "markdown",
   "metadata": {},
   "source": [
    "### 7.3 Getting a MIP solver"
   ]
  },
  {
   "cell_type": "code",
   "execution_count": null,
   "metadata": {},
   "outputs": [],
   "source": [
    "using GLPK, GLPKMathProgInterface # example for GLPK"
   ]
  },
  {
   "cell_type": "markdown",
   "metadata": {},
   "source": [
    "### 7.4 Creating a Model  "
   ]
  },
  {
   "cell_type": "code",
   "execution_count": null,
   "metadata": {},
   "outputs": [],
   "source": [
    "lp = Model( solver = GLPKSolverLP() ) # example for GLPK in mode LP"
   ]
  },
  {
   "cell_type": "markdown",
   "metadata": {},
   "source": [
    "### 7.5 Defining Variables"
   ]
  },
  {
   "cell_type": "code",
   "execution_count": null,
   "metadata": {},
   "outputs": [],
   "source": [
    "@variable(lp, x1 >= 0) # continuous variable\n",
    "@variable(lp, x2 >= 0) "
   ]
  },
  {
   "cell_type": "markdown",
   "metadata": {},
   "source": [
    "`x >= lb`   : continuous variable (lb : lower bound value)\n",
    "\n",
    "`x, Int`    : discrete varibale\n",
    "\n",
    "`x, Bin`    : binary variable\n"
   ]
  },
  {
   "cell_type": "markdown",
   "metadata": {},
   "source": [
    "### 7.6 Defining Objective"
   ]
  },
  {
   "cell_type": "code",
   "execution_count": null,
   "metadata": {},
   "outputs": [],
   "source": [
    "@objective(lp, Max, x1 + 3x2)"
   ]
  },
  {
   "cell_type": "markdown",
   "metadata": {},
   "source": [
    "### 7.7 Defining Constraints"
   ]
  },
  {
   "cell_type": "code",
   "execution_count": null,
   "metadata": {},
   "outputs": [],
   "source": [
    "@constraint(lp, cst1, x1 + x2 <= 14)\n",
    "@constraint(lp, cst2, -2x1 + 3x2 <= 12)\n",
    "@constraint(lp, cst3, 2x1 - x2 <= 12)"
   ]
  },
  {
   "cell_type": "markdown",
   "metadata": {},
   "source": [
    "### 7.8 Display the model"
   ]
  },
  {
   "cell_type": "code",
   "execution_count": null,
   "metadata": {},
   "outputs": [],
   "source": [
    "print(lp)"
   ]
  },
  {
   "cell_type": "markdown",
   "metadata": {},
   "source": [
    "### 7.9 Solve the model"
   ]
  },
  {
   "cell_type": "code",
   "execution_count": null,
   "metadata": {},
   "outputs": [],
   "source": [
    "status = solve(lp)"
   ]
  },
  {
   "cell_type": "markdown",
   "metadata": {},
   "source": [
    "### 7.10 Retrieve the results"
   ]
  },
  {
   "cell_type": "code",
   "execution_count": null,
   "metadata": {},
   "outputs": [],
   "source": [
    "if status == :Optimal\n",
    "    zOpt  = getobjectivevalue(lp)\n",
    "    @printf(\"  z=%5.2f  x1=%5.2f  x2=%5.2f \\n\",zOpt, JuMP.getvalue(x1), JuMP.getvalue(x2))\n",
    "    @printf(\" u1=%5.2f  u2=%5.2f  u3=%5.2f \\n\",getdual(cst1), getdual(cst2), getdual(cst3))\n",
    "    \n",
    "elseif status == :Unbounded\n",
    "    println(\"problem unbounded\")\n",
    "    \n",
    "elseif status == :Infeasible\n",
    "    println(\"problem infeasible\")\n",
    "    \n",
    "end"
   ]
  },
  {
   "cell_type": "markdown",
   "metadata": {},
   "source": [
    "### 7.11 Implicit description"
   ]
  },
  {
   "cell_type": "code",
   "execution_count": null,
   "metadata": {},
   "outputs": [],
   "source": [
    "c = [1, 3]\n",
    "d = [14, 12, 12]\n",
    "T = [1  1 ; -2  3; 2  -1]\n",
    "n,m = size(T)\n",
    "\n",
    "lp = Model( solver = GLPKSolverLP() )\n",
    "@variable(lp, x[1:m] >= 0)\n",
    "@objective(lp, Max, sum(c[j]*x[j] for j=1:m) )\n",
    "@constraint(lp, cst[i=1:n], sum(T[i,j]*x[j] for j=1:m) <= d[i])\n",
    "print(lp)"
   ]
  },
  {
   "cell_type": "markdown",
   "metadata": {},
   "source": [
    "From GLPK to Gurobi"
   ]
  },
  {
   "cell_type": "code",
   "execution_count": null,
   "metadata": {},
   "outputs": [],
   "source": [
    "#using Pkg\n",
    "Pkg.add(\"Gurobi\")\n",
    "using Gurobi"
   ]
  },
  {
   "cell_type": "code",
   "execution_count": null,
   "metadata": {},
   "outputs": [],
   "source": [
    "c = [1, 3]\n",
    "d = [14, 12, 12]\n",
    "T = [1  1 ; -2  3; 2  -1]\n",
    "n,m = size(T)\n",
    "\n",
    "lp = Model( solver = GurobiSolver() )\n",
    "@variable(lp, x[1:m] >= 0)\n",
    "@objective(lp, Max, sum(c[j]*x[j] for j=1:m) )\n",
    "@constraint(lp, cst[i=1:n], sum(T[i,j]*x[j] for j=1:m) <= d[i])\n",
    "print(lp)"
   ]
  },
  {
   "cell_type": "markdown",
   "metadata": {},
   "source": [
    "### 7.12 Exercice\n",
    "\n",
    "For the unidimensional 01 knapsack problem, $$z=\\max\\big\\{px \\mid wx \\le c, \\ x\\in\\{0,1\\}^n\\big\\}$$\n",
    "with $$n=5$$\n",
    "$$p=(5, 3, 2, 7, 4)$$\n",
    "$$w=(2, 8, 4, 2, 5)$$\n",
    "$$c=10$$\n",
    "compute the optimal solution."
   ]
  },
  {
   "cell_type": "markdown",
   "metadata": {},
   "source": [
    "------\n",
    "\n",
    "## 8. vOptSolver\n",
    "https://github.com/vOptSolver\n",
    "\n",
    "An production of the ANR/DFG-14-CE35-0034-01 research project (Feb/2015-Jan/2019)\n",
    "\n",
    "Xavier Gandibleux, Gauthier Soleilhac, Anthony Przybylski, Stefan Ruzika. vOptSolver: an open source software environment for multiobjective mathematical optimization. *IFORS2017: 21st Conference of the International Federation of Operational Research Societies*. July 17-21, 2017. Quebec City (Canada).\n",
    "\n",
    "ROADEF 2018 - Xavier Gandibleux et Anthony Przybylski, *Algorithmes de branch-and-bound multiobjectif et vOptSolver* (in French): \n",
    "https://youtu.be/jH3AftHsG2s?t=1725"
   ]
  },
  {
   "cell_type": "markdown",
   "metadata": {},
   "source": [
    "### 8.1 Overview\n",
    "- an ecosystem for modeling and solving multiobjective linear optimization problems (MOCO, MOIP, MOMIP, MOLP)\n",
    "\n",
    "- it deals with structured and non-structured optimization problems with at least two objectives\n",
    "\n",
    "- it integrates several specific and generic exact algorithms for computing efficient solutions\n",
    "\n",
    "\n",
    "- Designed for solving, research, and pedagogic needs\n",
    "- Natural and intuitive use for mathematicians, informaticians, engineers\n",
    "- Efficient, flexible, evolutive solver\n",
    "\n",
    "\n",
    "- Aims to be easy to formulate a problem, to provide data, to solve a problem, to collect the outputs, to analyze the solutions\n",
    "\n",
    "- Free, open source (MIT licence), multi-platform, reusing existing specifications\n",
    "\n",
    "- Using usual free (GLPK, Clp/Cbc) and commercial (GUROBI, CPLEX) MILP solvers"
   ]
  },
  {
   "cell_type": "markdown",
   "metadata": {},
   "source": [
    "### 8.2 The vOptSpecific package\n",
    "Multiobjective structured problems / Application Programming Interface (API):\n",
    "\n",
    "| Problem | Description                        | API          | src      | Reference      |\n",
    "|:--------|:-----------------------------------|:------------:| --------:| --------------:|\n",
    "| LAP     | Linear Assignment Problem          |**2LAP2008**  | C        | Przybylski2008 |\n",
    "| OSP     | One machine Scheduling Problem     |**2OSP1980**  | Julia    | Wassenhove1980 |\n",
    "|UKP      | 01 Unidimensional knapsack problem |**2UKP2010**  | Julia    | Jorge2010 |\n",
    "|UMFLP    | Uncapacitated Mixed variables Facility Location Problem |**2UMFLP2016**| C++ | Delmee2017|\n",
    "| PATHS   | *forthcoming* | \n",
    "| UDFLP   | *forthcoming* |\n",
    "| SSCFLP  | *project*     | \n",
    "| CFLP    | *project*     | \n",
    "| MKP     | *project*     | \n",
    "\n",
    "Input:\n",
    "\n",
    "- Direct: Julia and the API\n",
    "- Files: Ad-hoc problem format (2LAP, 2OSP, 2UKP, 2UFLP)\n",
    "\n",
    "Output:\n",
    "\n",
    "- Ad-hoc problem format (2LAP, 2OSP, 2UKP, 2UFLP)\n",
    "\n",
    "Platforms:\n",
    "\n",
    "- macOS, linux. Project: windows"
   ]
  },
  {
   "cell_type": "markdown",
   "metadata": {},
   "source": [
    "### 8.3 Getting vOptSpecific (v1.0 compliant with Julia v1.x)"
   ]
  },
  {
   "cell_type": "code",
   "execution_count": null,
   "metadata": {},
   "outputs": [],
   "source": [
    "#using Pkg\n",
    "#Pkg.add(\"vOptSpecific\")"
   ]
  },
  {
   "cell_type": "code",
   "execution_count": null,
   "metadata": {},
   "outputs": [],
   "source": [
    "using vOptSpecific"
   ]
  },
  {
   "cell_type": "markdown",
   "metadata": {},
   "source": [
    "### 8.4 The vOptGeneric package\n",
    "Multiobjective non-structured problems / Algebraic Language (JuMP extended to multiple objectives)\n",
    "\n",
    "| Problem     | Description                            | Output    | Method     | Parameter (if required)  | Name     |\n",
    "|:------------|:---------------------------------------|:---------:| ----------:| ------------| :--------|\n",
    "| 2-ILP       | bi-objective Integer Linear Program    | $Y_N$     |**:epsilon** |step = *realValue*| ϵ-constraint | \n",
    "| 2-ILP       | bi-objective Integer Linear Program    | $Y_N$     |**:chalmet** or **:Chalmet** | step = *realValue* | Chalmet       |\n",
    "| 2-ILP       | bi-objective Integer Linear Program    | $Y_{SN}$  | **:dicho** or **:dichotomy** | (none) | Aneja & Nair  |\n",
    "| $p$-ILP     | multi-objective Integer Linear Program | $Y_{lex}$ | **:lex** or **:lexico** | (none) | Lexicographic |\n",
    "| \\{2,3\\}-LP  | (forthcoming)                          |\n",
    "| 3-ILP       | (project)                              | \n",
    "| \\{2,3\\}-MILP| (project)                              |  \n",
    "\n",
    "\n",
    "using Julia and JuMP-extendedMO, with GLPK or Clp/Cbc or CPLEX or GUROBI\n",
    "\n",
    "Input:\n",
    "\n",
    "- Direct:    Julia and JuMP-extendedMO\n",
    "   \n",
    "   \n",
    "- Files : \n",
    "   (1) Standard MOP format (ILP, MILP, LP) and\n",
    "   (2) Specific problem format (MILP)\n",
    "\n",
    "Output:\n",
    "\n",
    "- Standard 2MOP format (ILP, MILP, LP)\n",
    "\n",
    "Platforms:\n",
    "\n",
    "- macOS, linux, windows"
   ]
  },
  {
   "cell_type": "markdown",
   "metadata": {},
   "source": [
    "### 8.5 Getting vOptGeneric (v0.2 compliant with Julia v1.x)"
   ]
  },
  {
   "cell_type": "code",
   "execution_count": null,
   "metadata": {},
   "outputs": [],
   "source": [
    "#using Pkg\n",
    "#Pkg.add(\"vOptGeneric\")"
   ]
  },
  {
   "cell_type": "code",
   "execution_count": null,
   "metadata": {},
   "outputs": [],
   "source": [
    "using vOptGeneric"
   ]
  },
  {
   "cell_type": "markdown",
   "metadata": {},
   "source": [
    "### 8.6 Example\n",
    "\n",
    "For the bi-objective unidimensional 01 knapsack problem, $$\\max\\big\\{(p^1x,\\ p^2x) \\mid wx \\le c, \\ x\\in\\{0,1\\}^n\\big\\}$$\n",
    "with $$n=5$$\n",
    "$$p^1=(\\ 6, \\ 4, \\ 4, \\ 4, \\ 3)$$\n",
    "$$p^2=(12, 10, \\ 5, \\ 3, \\ 1)$$\n",
    "$$w=(\\ 8, \\ 6, \\ 4, \\ 3, \\ 2)$$\n",
    "$$c=15$$\n",
    "compute $Y_N$, the set of non-dominated points."
   ]
  },
  {
   "cell_type": "code",
   "execution_count": null,
   "metadata": {},
   "outputs": [],
   "source": [
    "n  = 5\n",
    "p1 = [ 6,  4,  4,  4,  3]\n",
    "p2 = [12, 10,  5,  3,  1]\n",
    "w  = [ 8,  6,  4,  3,  2]\n",
    "c  = 15"
   ]
  },
  {
   "cell_type": "markdown",
   "metadata": {},
   "source": [
    "### 8.4 Creating and solving the example with vOptSpecific"
   ]
  },
  {
   "cell_type": "code",
   "execution_count": null,
   "metadata": {},
   "outputs": [],
   "source": [
    "using vOptSpecific\n",
    "\n",
    "mokp = set2UKP( n, p1, p2, w, c )\n",
    "algo = UKP_Jorge2010()"
   ]
  },
  {
   "cell_type": "code",
   "execution_count": null,
   "metadata": {},
   "outputs": [],
   "source": [
    "z1, z2, s, x = vSolve( mokp , algo )"
   ]
  },
  {
   "cell_type": "code",
   "execution_count": null,
   "metadata": {},
   "outputs": [],
   "source": [
    "println( \" i z1 z2 x s\")\n",
    "for i in 1:length(z1)\n",
    "    println(\" \",i,\" \",z1[i],\" \",z2[i],\" \",x[i],\" \",s[i])\n",
    "end"
   ]
  },
  {
   "cell_type": "markdown",
   "metadata": {},
   "source": [
    "### 8.5 Creating and solving the example with vOptGeneric"
   ]
  },
  {
   "cell_type": "code",
   "execution_count": null,
   "metadata": {},
   "outputs": [],
   "source": [
    "using vOptGeneric\n",
    "\n",
    "moip = vModel( solver = GLPKSolverMIP() )\n",
    "@variable( moip , x[1:n] , Bin )\n",
    "@addobjective( moip , Max, sum( p1[j]*x[j] for j=1:n ) )\n",
    "@addobjective( moip , Max, sum( p2[j]*x[j] for j=1:n ) )\n",
    "@constraint( moip , sum(w[j]*x[j] for j=1:n) <= c )"
   ]
  },
  {
   "cell_type": "code",
   "execution_count": null,
   "metadata": {},
   "outputs": [],
   "source": [
    "solve( moip , method = :epsilon , step = 0.5 )"
   ]
  },
  {
   "cell_type": "code",
   "execution_count": null,
   "metadata": {},
   "outputs": [],
   "source": [
    "printX_E( moip )"
   ]
  },
  {
   "cell_type": "code",
   "execution_count": null,
   "metadata": {},
   "outputs": [],
   "source": [
    "Y_N = getY_N(moip)\n",
    "for n = 1:length(Y_N)\n",
    "    X = vOptGeneric.getvalue(x, n)\n",
    "    print(findall( v->(v == 1.0), X))  # or print( findall( X .== 1.0 ) )\n",
    "    println(\" | z = \",Y_N[n])\n",
    "end"
   ]
  },
  {
   "cell_type": "code",
   "execution_count": null,
   "metadata": {},
   "outputs": [],
   "source": [
    "using PyPlot\n",
    "\n",
    "z1, z2 = map(x -> x[1], Y_N), map(x -> x[2], Y_N)\n",
    "\n",
    "PyPlot.title(\"Knapsack\")\n",
    "PyPlot.xlabel(\"\\$z_1\\$ to maximize\") ; PyPlot.ylabel(\"\\$z_2\\$ to maximize\")\n",
    "grid()\n",
    "\n",
    "plot(z1, z2, \"bx\", markersize = \"8\", label=\"\\$Y_N\\$\")\n",
    "legend(loc=1, fontsize=\"small\")\n",
    "show()"
   ]
  },
  {
   "cell_type": "markdown",
   "metadata": {},
   "source": [
    "### 8.5 Saving and Parse-and-solve with vOptGeneric"
   ]
  },
  {
   "cell_type": "markdown",
   "metadata": {},
   "source": [
    "multi-objective MPS format "
   ]
  },
  {
   "cell_type": "code",
   "execution_count": null,
   "metadata": {},
   "outputs": [],
   "source": [
    "writeMOP(moip, \"myRAMOOkp.mop\")"
   ]
  },
  {
   "cell_type": "code",
   "execution_count": null,
   "metadata": {},
   "outputs": [],
   "source": [
    "using vOptGeneric, Gurobi\n",
    "my_moip = parseMOP(\"example.MOP\", solver = GurobiSolver())"
   ]
  },
  {
   "cell_type": "markdown",
   "metadata": {},
   "source": [
    "### 8.6 Exercice"
   ]
  },
  {
   "cell_type": "markdown",
   "metadata": {},
   "source": [
    "Consider now the following bi-objective generalized assignment (2-GAP) problem:\n",
    "\n",
    "$$\\big ( \\ \\max \\sum_{i=1}^{m} \\sum_{j=1}^{n} p^1_{ij} x_{ij} \\ , \\\n",
    "\\max \\sum_{i=1}^{m} \\sum_{j=1}^{n} p^2_{ij} x_{ij} \\ \\big )$$\n",
    "\n",
    "$$ s.t \\qquad \\sum_{j=1}^{n} w_{ij} x_{ij} \\le b_i, \\quad \\forall i \\in \\{1, \\dots, m \\}$$\n",
    "\n",
    "$$ \\qquad \\qquad \\sum_{i=1}^{m} x_{ij} = 1, \\quad \\forall j \\in \\{1, \\dots, n \\}$$\n",
    "\n",
    "\n",
    "$$x_{ij}\\in\\{0,1\\}, \\ \\forall i \\in \\{1, \\dots, m \\}, \\  \\forall j \\in \\{1, \\dots, n \\}$$\n",
    "\n",
    "Generate an instance $m\\times n$ with coefficients randomly generated as follow:\n",
    "- $1 \\le p^1_{ij}, \\ p^2_{ij}, \\ w_{ij} \\le 10$ \n",
    "- $b_i = \\lfloor  \\frac{\\sum_{j=1}^{m}w_{ij}}{2} \\rfloor$ \n",
    "\n",
    "and:\n",
    "- compute $Y_N$, the set of non-dominated points\n",
    "- plot $Y_N$\n",
    "- compute UBS, an upper bound set of $Y_N$\n",
    "- plot on a same figure $Y_N$ and UBS"
   ]
  },
  {
   "cell_type": "markdown",
   "metadata": {},
   "source": [
    "# Answers to exercices"
   ]
  },
  {
   "cell_type": "markdown",
   "metadata": {},
   "source": [
    "### Exercice 3.9 \n",
    "\n",
    "Let $f:[a;b]\\rightarrow \\mathbb{R}$ a function strictly monotonic on the interval $[a,b]$. \n",
    "We suppose the equation $f(x)=0$ has one and only one solution on the interval.\n",
    "Determine this value for a given precision using a dichotomic method."
   ]
  },
  {
   "cell_type": "code",
   "execution_count": null,
   "metadata": {},
   "outputs": [],
   "source": [
    "function dichotomy(a, b, f, ϵ)\n",
    "    @assert b > a \"Error: for a,b : b>a\"\n",
    "    x = (a+b)/2\n",
    "    while ( b-a > ϵ ) && ( abs(f(x)) > ϵ )\n",
    "        println(a, \" \", x, \" \", b)\n",
    "        if ( f(a)*f(x) < 0 )\n",
    "            b = x\n",
    "        else\n",
    "            a = x\n",
    "        end\n",
    "        x = (a+b)/2\n",
    "    end\n",
    "    return x\n",
    "end"
   ]
  },
  {
   "cell_type": "code",
   "execution_count": null,
   "metadata": {},
   "outputs": [],
   "source": [
    "a=-5; b=5; fx=x->x+1; ϵ=0.001\n",
    "dichotomy(a, b, fx, ϵ)"
   ]
  },
  {
   "cell_type": "markdown",
   "metadata": {},
   "source": [
    "### Exercice 4.5 \n",
    "For the unidimensional 01 knapsack problem, $$z=\\max\\big\\{px \\mid wx \\le c, \\ x\\in\\{0,1\\}^n\\big\\}$$\n",
    "with $$n=5$$\n",
    "$$p=(5, 3, 2, 7, 4)$$\n",
    "$$w=(2, 8, 4, 2, 5)$$\n",
    "$$c=10$$\n",
    "compute the linear relaxation."
   ]
  },
  {
   "cell_type": "code",
   "execution_count": null,
   "metadata": {},
   "outputs": [],
   "source": [
    "function computeLP_U01KP( p, w, c )\n",
    "\n",
    "    n = length( p )\n",
    "    xLP = zeros(Float64,n)\n",
    "    \n",
    "    # compute the utilities and reorder the items accordingly\n",
    "    u = p ./ w\n",
    "    reord = sortperm( u, rev=true )\n",
    "\n",
    "    # identify the last item integrally selected\n",
    "    zLP = 0 ; bar_c = c; s = 1 \n",
    "    while ( s <= n ) && ( bar_c - w[reord[s]]  >= 0 )\n",
    "         xLP[reord[s]] = 1.0\n",
    "         zLP = zLP + p[reord[s]]   \n",
    "         bar_c = bar_c - w[reord[s]] \n",
    "         s = s + 1\n",
    "    end\n",
    "    s = s - 1\n",
    "                \n",
    "    # constraint not saturated => add the fractionnal part of the blocking item valuated\n",
    "    if ( bar_c > 0 ) && ( s < n )\n",
    "        xLP[reord[s+1]] = bar_c / w[reord[s+1]]        \n",
    "        zLP = zLP + xLP[reord[s+1]] * p[reord[s+1]]  \n",
    "    end\n",
    "    \n",
    "    for i = 1:n\n",
    "        @printf(\" %d (%d %d %.2f) %4.2f \\n\", reord[i], p[reord[i]], w[reord[i]], u[reord[i]], xLP[reord[i]])\n",
    "    end\n",
    "       \n",
    "    return zLP, xLP\n",
    "end"
   ]
  },
  {
   "cell_type": "code",
   "execution_count": null,
   "metadata": {},
   "outputs": [],
   "source": [
    "p = [ 5, 3, 2, 7, 4 ]\n",
    "w = [ 2, 8, 4, 2, 5 ]\n",
    "c = 10\n",
    "computeLP_U01KP( p, w, c )"
   ]
  },
  {
   "cell_type": "markdown",
   "metadata": {},
   "source": [
    "### Exercice 7.12 \n",
    "\n",
    "For the unidimensional 01 knapsack problem, $$z=\\max\\big\\{px \\mid wx \\le c, \\ x\\in\\{0,1\\}^n\\big\\}$$\n",
    "with $$n=5$$\n",
    "$$p=(5, 3, 2, 7, 4)$$\n",
    "$$w=(2, 8, 4, 2, 5)$$\n",
    "$$c=10$$\n",
    "compute the optimal solution."
   ]
  },
  {
   "cell_type": "code",
   "execution_count": null,
   "metadata": {},
   "outputs": [],
   "source": [
    "using Printf, JuMP, GLPK, GLPKMathProgInterface\n",
    "\n",
    "p = [ 5, 3, 2, 7, 4 ]\n",
    "w = [ 2, 8, 4, 2, 5 ]\n",
    "c = 10\n",
    "n = length(p)\n",
    "\n",
    "kp = Model( solver = GLPKSolverMIP() ) # GLPK in mode MIP\n",
    "@variable(kp, x[1:n], Bin)\n",
    "@objective(kp, Max, sum(p[j]*x[j] for j=1:n))\n",
    "@constraint(kp, sum(w[j]*x[j] for j=1:n) <= c)\n",
    "\n",
    "status = solve(kp)\n",
    "\n",
    "println(\"zOpt: \", getobjectivevalue(kp))\n",
    "print(\"xOpt: \")\n",
    "for i = 1:n\n",
    "    @printf(\" %1d|%1.0f \",i, JuMP.getvalue(x[i]))\n",
    "end"
   ]
  },
  {
   "cell_type": "markdown",
   "metadata": {},
   "source": [
    "### Exercice 8.6 "
   ]
  },
  {
   "cell_type": "markdown",
   "metadata": {},
   "source": [
    "Consider now the following bi-objective generalized assignment (2-GAP) problem:\n",
    "\n",
    "$$\\big ( \\ \\max \\sum_{i=1}^{m} \\sum_{j=1}^{n} p^1_{ij} x_{ij} \\ , \\\n",
    "\\max \\sum_{i=1}^{m} \\sum_{j=1}^{n} p^2_{ij} x_{ij} \\ \\big )$$\n",
    "\n",
    "$$ s.t \\qquad \\sum_{j=1}^{n} w_{ij} x_{ij} \\le b_i, \\quad \\forall i \\in \\{1, \\dots, m \\}$$\n",
    "\n",
    "$$ \\qquad \\qquad \\sum_{i=1}^{m} x_{ij} = 1, \\quad \\forall j \\in \\{1, \\dots, n \\}$$\n",
    "\n",
    "\n",
    "$$x_{ij}\\in\\{0,1\\}, \\ \\forall i \\in \\{1, \\dots, m \\}, \\  \\forall j \\in \\{1, \\dots, n \\}$$\n",
    "\n",
    "Generate an instance $m\\times n$ with coefficients randomly generated as follow:\n",
    "- $1 \\le p^1_{ij}, \\ p^2_{ij}, \\ w_{ij} \\le 10$ \n",
    "- $b_i = \\lfloor  \\frac{\\sum_{j=1}^{m}w_{ij}}{2} \\rfloor$ \n",
    "\n",
    "and:\n",
    "- compute $Y_N$, the set of non-dominated points\n",
    "- plot $Y_N$\n",
    "- compute UBS, an upper bound set of $Y_N$\n",
    "- plot on a same figure $Y_N$ and UBS"
   ]
  },
  {
   "cell_type": "code",
   "execution_count": null,
   "metadata": {},
   "outputs": [],
   "source": [
    "m=3; n=10\n",
    "p1 = rand(1:10,m,n)\n",
    "p2 = rand(1:10,m,n)\n",
    "w  = rand(1:10,m,n)\n",
    "b  = Matrix{Int64}(undef,m,n)\n",
    "for i=1:m\n",
    "    b[i] = floor(Int64,sum(w[i,:])/2) \n",
    "end"
   ]
  },
  {
   "cell_type": "markdown",
   "metadata": {},
   "source": [
    "2-GAP with variables in $\\{0,1\\}$ solved with the epsilon-constraint method using GLPK: "
   ]
  },
  {
   "cell_type": "code",
   "execution_count": null,
   "metadata": {},
   "outputs": [],
   "source": [
    "using vOptGeneric, GLPK, GLPKMathProgInterface\n",
    "\n",
    "GAP = vModel(solver=GLPKSolverMIP())\n",
    "@variable(GAP, x[1:m, 1:n], Bin)\n",
    "@addobjective(GAP, Max, sum(p1[i,j]*x[i,j] for i = 1:m, j = 1:n))\n",
    "@addobjective(GAP, Max, sum(p2[i,j]*x[i,j] for i = 1:m, j = 1:n))\n",
    "@constraint(GAP, [i=1:m], sum(w[i,j]*x[i,j] for j = 1:n) <= b[i])\n",
    "@constraint(GAP, [j=1:n], sum(x[i,j] for i = 1:m) == 1)\n",
    "\n",
    "solve( GAP , method = :epsilon , step = 0.5 )"
   ]
  },
  {
   "cell_type": "code",
   "execution_count": null,
   "metadata": {},
   "outputs": [],
   "source": [
    "#printX_E( GAP )\n",
    "Y_N = getY_N(GAP)"
   ]
  },
  {
   "cell_type": "code",
   "execution_count": null,
   "metadata": {},
   "outputs": [],
   "source": [
    "using PyPlot\n",
    "\n",
    "z1, z2 = map(x -> x[1], Y_N), map(x -> x[2], Y_N)\n",
    "\n",
    "PyPlot.title(\"2-GAP\")\n",
    "PyPlot.xlabel(\"\\$z_1\\$ to maximize\") ; PyPlot.ylabel(\"\\$z_2\\$ to maximize\")\n",
    "grid()\n",
    "\n",
    "plot(z1, z2, \"bx\", markersize = \"8\", label=\"\\$Y_N\\$\")\n",
    "legend(loc=1, fontsize=\"small\")\n",
    "show()"
   ]
  },
  {
   "cell_type": "markdown",
   "metadata": {},
   "source": [
    "2-GAP with variables in $[0,1]$ solved with the Chalmet method (step of 1) using GLPK: "
   ]
  },
  {
   "cell_type": "code",
   "execution_count": null,
   "metadata": {},
   "outputs": [],
   "source": [
    "GAP2 = vModel(solver=GLPKSolverLP())\n",
    "@variable(GAP2, 0<= x[1:m, 1:n] <= 1)\n",
    "@addobjective(GAP2, Max, sum(p1[i,j]*x[i,j] for i = 1:m, j = 1:n))\n",
    "@addobjective(GAP2, Max, sum(p2[i,j]*x[i,j] for i = 1:m, j = 1:n))\n",
    "@constraint(GAP2, [i=1:m], sum(w[i,j]*x[i,j] for j = 1:n) <= b[i])\n",
    "@constraint(GAP2, [j=1:n], sum(x[i,j] for i = 1:m) == 1)\n",
    "\n",
    "solve( GAP2 , method = :chalmet , step = 1 )"
   ]
  },
  {
   "cell_type": "code",
   "execution_count": null,
   "metadata": {},
   "outputs": [],
   "source": [
    "Y_N = getY_N(GAP2)"
   ]
  },
  {
   "cell_type": "code",
   "execution_count": null,
   "metadata": {
    "scrolled": false
   },
   "outputs": [],
   "source": [
    "z12, z22 = map(x -> x[1], Y_N), map(x -> x[2], Y_N)\n",
    "\n",
    "PyPlot.title(\"2-GAP\")\n",
    "PyPlot.xlabel(\"\\$z_1\\$ to maximize\") ; PyPlot.ylabel(\"\\$z_2\\$ to maximize\")\n",
    "grid()\n",
    "\n",
    "plot(z1, z2, \"bx\", markersize = \"8\", label=\"\\$Y_N\\$\")\n",
    "plot(z12, z22, \"o\", markersize = \"5\", label=\"\\$LR(Y_N)\\$\")\n",
    "legend(loc=1, fontsize=\"small\")\n",
    "show()"
   ]
  }
 ],
 "metadata": {
  "celltoolbar": "Raw Cell Format",
  "kernelspec": {
   "display_name": "Julia 1.0.2",
   "language": "julia",
   "name": "julia-1.0"
  },
  "language_info": {
   "file_extension": ".jl",
   "mimetype": "application/julia",
   "name": "julia",
   "version": "1.0.2"
  }
 },
 "nbformat": 4,
 "nbformat_minor": 2
}
